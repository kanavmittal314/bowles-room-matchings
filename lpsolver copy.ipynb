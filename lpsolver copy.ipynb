{
 "cells": [
  {
   "cell_type": "code",
   "execution_count": 2,
   "metadata": {},
   "outputs": [],
   "source": [
    "import pandas as pd\n",
    "import numpy as np\n",
    "import pyomo\n",
    "import pandas as pd\n",
    "import pyomo.opt\n",
    "import pyomo.environ as pe"
   ]
  },
  {
   "cell_type": "code",
   "execution_count": 6,
   "metadata": {},
   "outputs": [
    {
     "data": {
      "text/plain": [
       "<pyomo.core.base.PyomoModel.AbstractModel at 0x169353570>"
      ]
     },
     "execution_count": 6,
     "metadata": {},
     "output_type": "execute_result"
    }
   ],
   "source": []
  },
  {
   "cell_type": "code",
   "execution_count": null,
   "metadata": {},
   "outputs": [],
   "source": [
    "\n"
   ]
  },
  {
   "cell_type": "code",
   "execution_count": 39,
   "metadata": {},
   "outputs": [],
   "source": [
    "MAX_EVENTS_PER_STUDENT = 4\n",
    "MIN_EVENTS_PER_STUDENT = 3\n",
    "MAX_STUDENTS_PER_EVENT = 3\n",
    "MIN_STUDENTS_PER_EVENT = 2\n",
    "PREFERENCES_FILE = \"./preferences.csv\"\n",
    "ROOMS_FILE = \"./rooms.csv\"\n"
   ]
  },
  {
   "cell_type": "code",
   "execution_count": 40,
   "metadata": {},
   "outputs": [],
   "source": [
    "def read_rooms(rooms_file: str) -> np.ndarray:\n",
    "    return pd.read_csv(rooms_file, index_col=0).astype(int).to_numpy().flatten()"
   ]
  },
  {
   "cell_type": "code",
   "execution_count": 41,
   "metadata": {},
   "outputs": [],
   "source": [
    "rooms = read_rooms(ROOMS_FILE)\n",
    "NUM_ROOMS = rooms.shape[0]"
   ]
  },
  {
   "cell_type": "code",
   "execution_count": 42,
   "metadata": {},
   "outputs": [],
   "source": [
    "def read_preferences(preferences_file: str) -> np.ndarray:\n",
    "    return pd.read_csv(preferences_file, index_col=0).astype(int).to_numpy()"
   ]
  },
  {
   "cell_type": "code",
   "execution_count": 43,
   "metadata": {},
   "outputs": [
    {
     "data": {
      "text/plain": [
       "(array([[2, 1, 1, 3, 1],\n",
       "        [2, 1, 4, 3, 1],\n",
       "        [1, 1, 4, 4, 2],\n",
       "        [4, 1, 3, 4, 4],\n",
       "        [3, 4, 1, 4, 4],\n",
       "        [3, 3, 2, 2, 3],\n",
       "        [3, 2, 4, 3, 2],\n",
       "        [3, 3, 2, 1, 4],\n",
       "        [2, 3, 3, 1, 4],\n",
       "        [1, 4, 2, 2, 4],\n",
       "        [2, 4, 4, 1, 1],\n",
       "        [4, 1, 4, 2, 3],\n",
       "        [3, 4, 2, 3, 1],\n",
       "        [3, 2, 4, 4, 2],\n",
       "        [3, 1, 3, 1, 3]]),\n",
       " 15,\n",
       " 5)"
      ]
     },
     "execution_count": 43,
     "metadata": {},
     "output_type": "execute_result"
    }
   ],
   "source": [
    "preferences = read_preferences(PREFERENCES_FILE)\n",
    "NUM_RESIDENTS = preferences.shape[0]\n",
    "NUM_PREFERENCE_CATEGORIES = preferences.shape[1]\n",
    "preferences, NUM_RESIDENTS, NUM_PREFERENCE_CATEGORIES"
   ]
  },
  {
   "cell_type": "code",
   "execution_count": 44,
   "metadata": {},
   "outputs": [],
   "source": [
    "# returns array where arr[i][j] represents the compatibility between two people, calculated as the sum of the absolute difference between the two vectors (might change to square root of the sum of the squares or something later!) or maybe the normalized dot product\n",
    "\n",
    "def calculate_compatibility_array(preferences, num_residents=-1, num_preference_categories=-1):\n",
    "    def calculate_compatibility(a_prefs, b_prefs):\n",
    "        return np.sum(np.abs(a_prefs - b_prefs))\n",
    "\n",
    "    if num_residents == -1:\n",
    "        num_residents = preferences.shape[0]\n",
    "    if num_preference_categories == -1:\n",
    "        num_preference_categories = preferences.shape[1]\n",
    "\n",
    "    compatibilities = []\n",
    "\n",
    "    for a, a_prefs in enumerate(preferences):\n",
    "        a_compatibilities = []\n",
    "        for b, b_prefs in enumerate(preferences):\n",
    "            if a == b:\n",
    "                a_compatibilities.append(float(\"inf\"))\n",
    "            else:\n",
    "                a_compatibilities.append(calculate_compatibility(a_prefs, b_prefs))\n",
    "        compatibilities.append(a_compatibilities)\n",
    "    \n",
    "    return np.array(compatibilities)\n",
    "\n",
    "compatibility_array = calculate_compatibility_array(preferences)\n",
    "    \n",
    "    \n",
    "        "
   ]
  },
  {
   "cell_type": "code",
   "execution_count": 45,
   "metadata": {},
   "outputs": [],
   "source": [
    "problem = pulp.LpProblem('lpsolver', pulp.LpMinimize)"
   ]
  },
  {
   "cell_type": "code",
   "execution_count": 46,
   "metadata": {},
   "outputs": [
    {
     "data": {
      "text/plain": [
       "array([[inf,  3.,  6.,  8.,  8.,  7.,  6.,  9.,  9.,  9.,  8.,  8.,  5.,\n",
       "         7.,  7.],\n",
       "       [ 3., inf,  3.,  7., 11.,  8.,  3., 10.,  8., 10.,  5.,  5.,  6.,\n",
       "         4.,  6.],\n",
       "       [ 6.,  3., inf,  6., 10.,  9.,  4., 11.,  9.,  9.,  8.,  6.,  9.,\n",
       "         3.,  7.],\n",
       "       [ 8.,  7.,  6., inf,  6.,  7.,  6.,  7.,  7.,  9., 12.,  4.,  9.,\n",
       "         5.,  5.],\n",
       "       [ 8., 11., 10.,  6., inf,  5.,  8.,  5.,  7.,  5., 10., 10.,  5.,\n",
       "         7.,  9.],\n",
       "       [ 7.,  8.,  9.,  7.,  5., inf,  5.,  2.,  4.,  4.,  7.,  5.,  4.,\n",
       "         6.,  4.],\n",
       "       [ 6.,  3.,  4.,  6.,  8.,  5., inf,  7.,  7.,  9.,  6.,  4.,  5.,\n",
       "         1.,  5.],\n",
       "       [ 9., 10., 11.,  7.,  5.,  2.,  7., inf,  2.,  4.,  7.,  7.,  6.,\n",
       "         8.,  4.],\n",
       "       [ 9.,  8.,  9.,  7.,  7.,  4.,  7.,  2., inf,  4.,  5.,  7.,  8.,\n",
       "         8.,  4.],\n",
       "       [ 9., 10.,  9.,  9.,  5.,  4.,  9.,  4.,  4., inf,  7.,  9.,  6.,\n",
       "        10.,  8.],\n",
       "       [ 8.,  5.,  8., 12., 10.,  7.,  6.,  7.,  5.,  7., inf,  8.,  5.,\n",
       "         7.,  7.],\n",
       "       [ 8.,  5.,  6.,  4., 10.,  5.,  4.,  7.,  7.,  9.,  8., inf,  9.,\n",
       "         5.,  3.],\n",
       "       [ 5.,  6.,  9.,  9.,  5.,  4.,  5.,  6.,  8.,  6.,  5.,  9., inf,\n",
       "         6.,  8.],\n",
       "       [ 7.,  4.,  3.,  5.,  7.,  6.,  1.,  8.,  8., 10.,  7.,  5.,  6.,\n",
       "        inf,  6.],\n",
       "       [ 7.,  6.,  7.,  5.,  9.,  4.,  5.,  4.,  4.,  8.,  7.,  3.,  8.,\n",
       "         6., inf]])"
      ]
     },
     "execution_count": 46,
     "metadata": {},
     "output_type": "execute_result"
    }
   ],
   "source": [
    "compatibility_array"
   ]
  },
  {
   "cell_type": "code",
   "execution_count": 47,
   "metadata": {},
   "outputs": [],
   "source": [
    "# def read_schedule(schedule_file: str) -> list[list[int]]:\n",
    "#     row_numbers = []\n",
    "#     schedule = pd.read_csv(\"./schedule.csv\",index_col=0).fillna(0).astype(int)\n",
    "#     for col in schedule.columns:\n",
    "#         row_numbers.append(schedule.loc[schedule[col] == 1].index.values.tolist())\n",
    "#     return row_numbers\n",
    "\n",
    "\n",
    "# SCHEDULE = read_schedule(\"./schedule.csv\")\n",
    "# SCHEDULE"
   ]
  },
  {
   "cell_type": "code",
   "execution_count": 48,
   "metadata": {},
   "outputs": [],
   "source": [
    "problem = pulp.LpProblem('lpsolver', pulp.LpMinimize)"
   ]
  },
  {
   "cell_type": "code",
   "execution_count": 49,
   "metadata": {},
   "outputs": [],
   "source": [
    "#create one variable for every resident-room combo (NUM_RESIDENTS * NUM_ROOMS)\n",
    "x = pulp.LpVariable.dicts('x', range(NUM_RESIDENTS * NUM_ROOMS), lowBound=0, upBound=1, cat='Integer')"
   ]
  },
  {
   "cell_type": "code",
   "execution_count": 51,
   "metadata": {},
   "outputs": [
    {
     "name": "stderr",
     "output_type": "stream",
     "text": [
      "/var/folders/g2/py91tm2d5bj465mlzrg0r1l40000gn/T/ipykernel_6727/3710517791.py:9: RuntimeWarning: invalid value encountered in multiply\n",
      "  compatibility_array[s][t]*x[s * NUM_ROOMS + j]*x[t * NUM_ROOMS + j]\n"
     ]
    },
    {
     "ename": "TypeError",
     "evalue": "Non-constant expressions cannot be multiplied",
     "output_type": "error",
     "traceback": [
      "\u001b[0;31m---------------------------------------------------------------------------\u001b[0m",
      "\u001b[0;31mTypeError\u001b[0m                                 Traceback (most recent call last)",
      "Cell \u001b[0;32mIn[51], line 6\u001b[0m\n\u001b[1;32m      1\u001b[0m p \u001b[39m=\u001b[39m read_preferences(PREFERENCES_FILE) \u001b[39m# TODO: convert p into a 2D array rather than 1D (more readable)\u001b[39;00m\n\u001b[1;32m      3\u001b[0m \u001b[39m# problem.setObjective(sum([sum([p[NUM_EVENTS * i + j]*x[NUM_EVENTS * i + j] for j in range(NUM_EVENTS)])for i in range(NUM_STUDENTS)]))\u001b[39;00m\n\u001b[1;32m      5\u001b[0m problem\u001b[39m.\u001b[39msetObjective(\n\u001b[0;32m----> 6\u001b[0m     \u001b[39msum\u001b[39m([\n\u001b[1;32m      7\u001b[0m         \u001b[39msum\u001b[39;49m([\n\u001b[1;32m      8\u001b[0m             \u001b[39msum\u001b[39;49m([\n\u001b[1;32m      9\u001b[0m                 compatibility_array[s][t]\u001b[39m*\u001b[39;49mx[s \u001b[39m*\u001b[39;49m NUM_ROOMS \u001b[39m+\u001b[39;49m j]\u001b[39m*\u001b[39;49mx[t \u001b[39m*\u001b[39;49m NUM_ROOMS \u001b[39m+\u001b[39;49m j] \n\u001b[1;32m     10\u001b[0m                 \u001b[39mfor\u001b[39;49;00m s \u001b[39min\u001b[39;49;00m \u001b[39mrange\u001b[39;49m(NUM_RESIDENTS)]) \n\u001b[1;32m     11\u001b[0m             \u001b[39mfor\u001b[39;49;00m t \u001b[39min\u001b[39;49;00m \u001b[39mrange\u001b[39;49m(NUM_RESIDENTS)]) \n\u001b[1;32m     12\u001b[0m         \u001b[39mfor\u001b[39;49;00m j \u001b[39min\u001b[39;49;00m \u001b[39mrange\u001b[39;49m(NUM_ROOMS)]))\n\u001b[1;32m     13\u001b[0m problem\n",
      "Cell \u001b[0;32mIn[51], line 7\u001b[0m, in \u001b[0;36m<listcomp>\u001b[0;34m(.0)\u001b[0m\n\u001b[1;32m      1\u001b[0m p \u001b[39m=\u001b[39m read_preferences(PREFERENCES_FILE) \u001b[39m# TODO: convert p into a 2D array rather than 1D (more readable)\u001b[39;00m\n\u001b[1;32m      3\u001b[0m \u001b[39m# problem.setObjective(sum([sum([p[NUM_EVENTS * i + j]*x[NUM_EVENTS * i + j] for j in range(NUM_EVENTS)])for i in range(NUM_STUDENTS)]))\u001b[39;00m\n\u001b[1;32m      5\u001b[0m problem\u001b[39m.\u001b[39msetObjective(\n\u001b[1;32m      6\u001b[0m     \u001b[39msum\u001b[39m([\n\u001b[0;32m----> 7\u001b[0m         \u001b[39msum\u001b[39m([\n\u001b[1;32m      8\u001b[0m             \u001b[39msum\u001b[39;49m([\n\u001b[1;32m      9\u001b[0m                 compatibility_array[s][t]\u001b[39m*\u001b[39;49mx[s \u001b[39m*\u001b[39;49m NUM_ROOMS \u001b[39m+\u001b[39;49m j]\u001b[39m*\u001b[39;49mx[t \u001b[39m*\u001b[39;49m NUM_ROOMS \u001b[39m+\u001b[39;49m j] \n\u001b[1;32m     10\u001b[0m                 \u001b[39mfor\u001b[39;49;00m s \u001b[39min\u001b[39;49;00m \u001b[39mrange\u001b[39;49m(NUM_RESIDENTS)]) \n\u001b[1;32m     11\u001b[0m             \u001b[39mfor\u001b[39;49;00m t \u001b[39min\u001b[39;49;00m \u001b[39mrange\u001b[39;49m(NUM_RESIDENTS)]) \n\u001b[1;32m     12\u001b[0m         \u001b[39mfor\u001b[39;00m j \u001b[39min\u001b[39;00m \u001b[39mrange\u001b[39m(NUM_ROOMS)]))\n\u001b[1;32m     13\u001b[0m problem\n",
      "Cell \u001b[0;32mIn[51], line 8\u001b[0m, in \u001b[0;36m<listcomp>\u001b[0;34m(.0)\u001b[0m\n\u001b[1;32m      1\u001b[0m p \u001b[39m=\u001b[39m read_preferences(PREFERENCES_FILE) \u001b[39m# TODO: convert p into a 2D array rather than 1D (more readable)\u001b[39;00m\n\u001b[1;32m      3\u001b[0m \u001b[39m# problem.setObjective(sum([sum([p[NUM_EVENTS * i + j]*x[NUM_EVENTS * i + j] for j in range(NUM_EVENTS)])for i in range(NUM_STUDENTS)]))\u001b[39;00m\n\u001b[1;32m      5\u001b[0m problem\u001b[39m.\u001b[39msetObjective(\n\u001b[1;32m      6\u001b[0m     \u001b[39msum\u001b[39m([\n\u001b[1;32m      7\u001b[0m         \u001b[39msum\u001b[39m([\n\u001b[0;32m----> 8\u001b[0m             \u001b[39msum\u001b[39m([\n\u001b[1;32m      9\u001b[0m                 compatibility_array[s][t]\u001b[39m*\u001b[39;49mx[s \u001b[39m*\u001b[39;49m NUM_ROOMS \u001b[39m+\u001b[39;49m j]\u001b[39m*\u001b[39;49mx[t \u001b[39m*\u001b[39;49m NUM_ROOMS \u001b[39m+\u001b[39;49m j] \n\u001b[1;32m     10\u001b[0m                 \u001b[39mfor\u001b[39;49;00m s \u001b[39min\u001b[39;49;00m \u001b[39mrange\u001b[39;49m(NUM_RESIDENTS)]) \n\u001b[1;32m     11\u001b[0m             \u001b[39mfor\u001b[39;00m t \u001b[39min\u001b[39;00m \u001b[39mrange\u001b[39m(NUM_RESIDENTS)]) \n\u001b[1;32m     12\u001b[0m         \u001b[39mfor\u001b[39;00m j \u001b[39min\u001b[39;00m \u001b[39mrange\u001b[39m(NUM_ROOMS)]))\n\u001b[1;32m     13\u001b[0m problem\n",
      "Cell \u001b[0;32mIn[51], line 9\u001b[0m, in \u001b[0;36m<listcomp>\u001b[0;34m(.0)\u001b[0m\n\u001b[1;32m      1\u001b[0m p \u001b[39m=\u001b[39m read_preferences(PREFERENCES_FILE) \u001b[39m# TODO: convert p into a 2D array rather than 1D (more readable)\u001b[39;00m\n\u001b[1;32m      3\u001b[0m \u001b[39m# problem.setObjective(sum([sum([p[NUM_EVENTS * i + j]*x[NUM_EVENTS * i + j] for j in range(NUM_EVENTS)])for i in range(NUM_STUDENTS)]))\u001b[39;00m\n\u001b[1;32m      5\u001b[0m problem\u001b[39m.\u001b[39msetObjective(\n\u001b[1;32m      6\u001b[0m     \u001b[39msum\u001b[39m([\n\u001b[1;32m      7\u001b[0m         \u001b[39msum\u001b[39m([\n\u001b[1;32m      8\u001b[0m             \u001b[39msum\u001b[39m([\n\u001b[0;32m----> 9\u001b[0m                 compatibility_array[s][t]\u001b[39m*\u001b[39;49mx[s \u001b[39m*\u001b[39;49m NUM_ROOMS \u001b[39m+\u001b[39;49m j]\u001b[39m*\u001b[39;49mx[t \u001b[39m*\u001b[39;49m NUM_ROOMS \u001b[39m+\u001b[39;49m j] \n\u001b[1;32m     10\u001b[0m                 \u001b[39mfor\u001b[39;00m s \u001b[39min\u001b[39;00m \u001b[39mrange\u001b[39m(NUM_RESIDENTS)]) \n\u001b[1;32m     11\u001b[0m             \u001b[39mfor\u001b[39;00m t \u001b[39min\u001b[39;00m \u001b[39mrange\u001b[39m(NUM_RESIDENTS)]) \n\u001b[1;32m     12\u001b[0m         \u001b[39mfor\u001b[39;00m j \u001b[39min\u001b[39;00m \u001b[39mrange\u001b[39m(NUM_ROOMS)]))\n\u001b[1;32m     13\u001b[0m problem\n",
      "File \u001b[0;32m~/opt/anaconda3/envs/scioly/lib/python3.11/site-packages/pulp/pulp.py:969\u001b[0m, in \u001b[0;36mLpAffineExpression.__mul__\u001b[0;34m(self, other)\u001b[0m\n\u001b[1;32m    967\u001b[0m                 e[v] \u001b[39m=\u001b[39m c \u001b[39m*\u001b[39m x\n\u001b[1;32m    968\u001b[0m \u001b[39melif\u001b[39;00m \u001b[39misinstance\u001b[39m(other, LpVariable):\n\u001b[0;32m--> 969\u001b[0m     \u001b[39mreturn\u001b[39;00m \u001b[39mself\u001b[39;49m \u001b[39m*\u001b[39;49m LpAffineExpression(other)\n\u001b[1;32m    970\u001b[0m \u001b[39melse\u001b[39;00m:\n\u001b[1;32m    971\u001b[0m     \u001b[39mif\u001b[39;00m other \u001b[39m!=\u001b[39m \u001b[39m0\u001b[39m:\n",
      "File \u001b[0;32m~/opt/anaconda3/envs/scioly/lib/python3.11/site-packages/pulp/pulp.py:957\u001b[0m, in \u001b[0;36mLpAffineExpression.__mul__\u001b[0;34m(self, other)\u001b[0m\n\u001b[1;32m    955\u001b[0m \u001b[39mif\u001b[39;00m \u001b[39mlen\u001b[39m(other):\n\u001b[1;32m    956\u001b[0m     \u001b[39mif\u001b[39;00m \u001b[39mlen\u001b[39m(\u001b[39mself\u001b[39m):\n\u001b[0;32m--> 957\u001b[0m         \u001b[39mraise\u001b[39;00m \u001b[39mTypeError\u001b[39;00m(\u001b[39m\"\u001b[39m\u001b[39mNon-constant expressions cannot be multiplied\u001b[39m\u001b[39m\"\u001b[39m)\n\u001b[1;32m    958\u001b[0m     \u001b[39melse\u001b[39;00m:\n\u001b[1;32m    959\u001b[0m         c \u001b[39m=\u001b[39m \u001b[39mself\u001b[39m\u001b[39m.\u001b[39mconstant\n",
      "\u001b[0;31mTypeError\u001b[0m: Non-constant expressions cannot be multiplied"
     ]
    }
   ],
   "source": [
    "p = read_preferences(PREFERENCES_FILE) # TODO: convert p into a 2D array rather than 1D (more readable)\n",
    "\n",
    "# problem.setObjective(sum([sum([p[NUM_EVENTS * i + j]*x[NUM_EVENTS * i + j] for j in range(NUM_EVENTS)])for i in range(NUM_STUDENTS)]))\n",
    "\n",
    "problem.setObjective(\n",
    "    sum([\n",
    "        sum([\n",
    "            sum([\n",
    "                compatibility_array[s][t]*x[s * NUM_ROOMS + j]*x[t * NUM_ROOMS + j] \n",
    "                for s in range(NUM_RESIDENTS)]) \n",
    "            for t in range(NUM_RESIDENTS)]) \n",
    "        for j in range(NUM_ROOMS)]))\n",
    "problem"
   ]
  },
  {
   "cell_type": "code",
   "execution_count": 157,
   "metadata": {},
   "outputs": [],
   "source": [
    "# students can do between 3 and 4 events\n",
    "for student in range(NUM_STUDENTS):\n",
    "    problem.addConstraint(sum([x[NUM_EVENTS * student + event] for event in range(NUM_EVENTS)]) <= MAX_EVENTS_PER_STUDENT)\n",
    "    problem.addConstraint(sum([x[NUM_EVENTS * student + event] for event in range(NUM_EVENTS)]) >= MIN_EVENTS_PER_STUDENT)\n"
   ]
  },
  {
   "cell_type": "code",
   "execution_count": 158,
   "metadata": {},
   "outputs": [],
   "source": [
    "# events have 2-3 people each\n",
    "for event in range(NUM_EVENTS):\n",
    "    problem.addConstraint(sum([x[NUM_EVENTS * student + event] for student in range(NUM_STUDENTS)]) >= MIN_STUDENTS_PER_EVENT)\n",
    "    problem.addConstraint(sum([x[NUM_EVENTS * student + event] for student in range(NUM_STUDENTS)]) <= MAX_STUDENTS_PER_EVENT)"
   ]
  },
  {
   "cell_type": "code",
   "execution_count": 159,
   "metadata": {},
   "outputs": [],
   "source": [
    "# students cannot have positive assignments to events in the same slot\n",
    "for slot in SCHEDULE:\n",
    "    for student in range(NUM_STUDENTS):\n",
    "        problem.addConstraint(sum([x[NUM_EVENTS * student + event] for event in slot]) <= 1)"
   ]
  },
  {
   "cell_type": "code",
   "execution_count": 160,
   "metadata": {},
   "outputs": [
    {
     "name": "stdout",
     "output_type": "stream",
     "text": [
      "Welcome to the CBC MILP Solver \n",
      "Version: 2.10.3 \n",
      "Build Date: Dec 15 2019 \n",
      "\n",
      "command line - /Users/Kanav/opt/anaconda3/envs/scioly/lib/python3.11/site-packages/pulp/solverdir/cbc/osx/64/cbc /var/folders/g2/py91tm2d5bj465mlzrg0r1l40000gn/T/d3e166f9801f4cc49e778361cc4425e6-pulp.mps max timeMode elapsed branch printingOptions all solution /var/folders/g2/py91tm2d5bj465mlzrg0r1l40000gn/T/d3e166f9801f4cc49e778361cc4425e6-pulp.sol (default strategy 1)\n",
      "At line 2 NAME          MODEL\n",
      "At line 3 ROWS\n",
      "At line 201 COLUMNS\n",
      "At line 2693 RHS\n",
      "At line 2890 BOUNDS\n",
      "At line 3236 ENDATA\n",
      "Problem MODEL has 196 rows, 345 columns and 1725 elements\n",
      "Coin0008I MODEL read with 0 errors\n",
      "Option for timeMode changed from cpu to elapsed\n",
      "Continuous objective value is 146 - 0.00 seconds\n",
      "Cgl0004I processed model has 158 rows, 345 columns (345 integer (345 of which binary)) and 1035 elements\n",
      "Cutoff increment increased from 1e-05 to 0.9999\n",
      "Cbc0038I Initial state - 0 integers unsatisfied sum - 0\n",
      "Cbc0038I Solution found of -146\n",
      "Cbc0038I Before mini branch and bound, 345 integers at bound fixed and 0 continuous\n",
      "Cbc0038I Mini branch and bound did not improve solution (0.03 seconds)\n",
      "Cbc0038I After 0.03 seconds - Feasibility pump exiting with objective of -146 - took 0.00 seconds\n",
      "Cbc0012I Integer solution of -146 found by feasibility pump after 0 iterations and 0 nodes (0.03 seconds)\n",
      "Cbc0001I Search completed - best objective -146, took 0 iterations and 0 nodes (0.03 seconds)\n",
      "Cbc0035I Maximum depth 0, 0 variables fixed on reduced cost\n",
      "Cuts at root node changed objective from -146 to -146\n",
      "Probing was tried 0 times and created 0 cuts of which 0 were active after adding rounds of cuts (0.000 seconds)\n",
      "Gomory was tried 0 times and created 0 cuts of which 0 were active after adding rounds of cuts (0.000 seconds)\n",
      "Knapsack was tried 0 times and created 0 cuts of which 0 were active after adding rounds of cuts (0.000 seconds)\n",
      "Clique was tried 0 times and created 0 cuts of which 0 were active after adding rounds of cuts (0.000 seconds)\n",
      "MixedIntegerRounding2 was tried 0 times and created 0 cuts of which 0 were active after adding rounds of cuts (0.000 seconds)\n",
      "FlowCover was tried 0 times and created 0 cuts of which 0 were active after adding rounds of cuts (0.000 seconds)\n",
      "TwoMirCuts was tried 0 times and created 0 cuts of which 0 were active after adding rounds of cuts (0.000 seconds)\n",
      "ZeroHalf was tried 0 times and created 0 cuts of which 0 were active after adding rounds of cuts (0.000 seconds)\n",
      "\n",
      "Result - Optimal solution found\n",
      "\n",
      "Objective value:                146.00000000\n",
      "Enumerated nodes:               0\n",
      "Total iterations:               0\n",
      "Time (CPU seconds):             0.01\n",
      "Time (Wallclock seconds):       0.03\n",
      "\n",
      "Option for printingOptions changed from normal to all\n",
      "Total time (CPU seconds):       0.01   (Wallclock seconds):       0.04\n",
      "\n"
     ]
    },
    {
     "data": {
      "text/plain": [
       "1"
      ]
     },
     "execution_count": 160,
     "metadata": {},
     "output_type": "execute_result"
    }
   ],
   "source": [
    "problem.solve()"
   ]
  },
  {
   "cell_type": "code",
   "execution_count": 161,
   "metadata": {},
   "outputs": [
    {
     "data": {
      "text/plain": [
       "True"
      ]
     },
     "execution_count": 161,
     "metadata": {},
     "output_type": "execute_result"
    }
   ],
   "source": [
    "values = [x[i].value() for i in range(NUM_EVENTS * NUM_STUDENTS)]\n",
    "all([value == 0.0 or value == 1.0 for value in values])"
   ]
  },
  {
   "cell_type": "code",
   "execution_count": 162,
   "metadata": {},
   "outputs": [
    {
     "data": {
      "text/plain": [
       "53.0"
      ]
     },
     "execution_count": 162,
     "metadata": {},
     "output_type": "execute_result"
    }
   ],
   "source": [
    "sum(values)"
   ]
  },
  {
   "cell_type": "code",
   "execution_count": 167,
   "metadata": {},
   "outputs": [],
   "source": [
    "\n",
    "output = pd.DataFrame(np.array(values).reshape(15, 23)).astype(int)"
   ]
  },
  {
   "cell_type": "code",
   "execution_count": 168,
   "metadata": {},
   "outputs": [],
   "source": [
    "output.to_csv(\"./output.csv\")"
   ]
  },
  {
   "cell_type": "code",
   "execution_count": 165,
   "metadata": {},
   "outputs": [
    {
     "data": {
      "text/plain": [
       "2.0"
      ]
     },
     "execution_count": 165,
     "metadata": {},
     "output_type": "execute_result"
    }
   ],
   "source": [
    "event = 13\n",
    "sum([x[NUM_EVENTS * student + event].value() for student in range(NUM_STUDENTS)])"
   ]
  },
  {
   "cell_type": "code",
   "execution_count": 166,
   "metadata": {},
   "outputs": [
    {
     "data": {
      "text/plain": [
       "0.0"
      ]
     },
     "execution_count": 166,
     "metadata": {},
     "output_type": "execute_result"
    }
   ],
   "source": [
    "slot = SCHEDULE[0]\n",
    "student = 9\n",
    "sum([x[NUM_EVENTS * student + event].value() for event in slot])"
   ]
  },
  {
   "cell_type": "code",
   "execution_count": null,
   "metadata": {},
   "outputs": [],
   "source": [
    "import"
   ]
  },
  {
   "cell_type": "code",
   "execution_count": null,
   "metadata": {},
   "outputs": [],
   "source": []
  }
 ],
 "metadata": {
  "kernelspec": {
   "display_name": "scioly",
   "language": "python",
   "name": "python3"
  },
  "language_info": {
   "codemirror_mode": {
    "name": "ipython",
    "version": 3
   },
   "file_extension": ".py",
   "mimetype": "text/x-python",
   "name": "python",
   "nbconvert_exporter": "python",
   "pygments_lexer": "ipython3",
   "version": "3.11.3"
  },
  "orig_nbformat": 4
 },
 "nbformat": 4,
 "nbformat_minor": 2
}
